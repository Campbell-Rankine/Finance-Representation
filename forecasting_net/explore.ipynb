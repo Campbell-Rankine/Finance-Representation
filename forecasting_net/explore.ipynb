{
 "cells": [
  {
   "cell_type": "code",
   "execution_count": 1,
   "metadata": {},
   "outputs": [
    {
     "name": "stderr",
     "output_type": "stream",
     "text": [
      "/Users/bigc/opt/anaconda3/envs/ML-Env/lib/python3.9/site-packages/tqdm/auto.py:22: TqdmWarning: IProgress not found. Please update jupyter and ipywidgets. See https://ipywidgets.readthedocs.io/en/stable/user_install.html\n",
      "  from .autonotebook import tqdm as notebook_tqdm\n"
     ]
    }
   ],
   "source": [
    "import torch as T\n",
    "import torch.nn as nn\n",
    "import torch.nn.functional as F\n",
    "\n",
    "import pytorch_forecasting\n",
    "from pytorch_forecasting.models import TemporalFusionTransformer\n",
    "\n",
    "import ray\n",
    "\n",
    "from utils import *\n",
    "import pickle\n",
    "import os\n",
    "from pathlib import Path\n",
    "from collections import defaultdict\n"
   ]
  },
  {
   "cell_type": "code",
   "execution_count": 2,
   "metadata": {},
   "outputs": [
    {
     "name": "stderr",
     "output_type": "stream",
     "text": [
      "Reversing module: MaxPool2d(kernel_size=2, stride=2, padding=0, dilation=1, ceil_mode=False): : 0it [00:00, ?it/s]"
     ]
    },
    {
     "name": "stdout",
     "output_type": "stream",
     "text": [
      "ModuleList(\n",
      "  (0): MaxUnpool2d(kernel_size=(2, 2), stride=(2, 2), padding=(0, 0))\n",
      ")\n",
      "Encoder(\n",
      "  (encoder): ModuleList(\n",
      "    (0): Conv2d(3, 64, kernel_size=(3, 3), stride=(1, 1), padding=(1, 1))\n",
      "    (1): ReLU(inplace=True)\n",
      "    (2): Conv2d(64, 64, kernel_size=(3, 3), stride=(1, 1), padding=(1, 1))\n",
      "    (3): ReLU(inplace=True)\n",
      "    (4): MaxPool2d(kernel_size=2, stride=2, padding=0, dilation=1, ceil_mode=False)\n",
      "    (5): Conv2d(64, 128, kernel_size=(3, 3), stride=(1, 1), padding=(1, 1))\n",
      "    (6): ReLU(inplace=True)\n",
      "    (7): Conv2d(128, 128, kernel_size=(3, 3), stride=(1, 1), padding=(1, 1))\n",
      "    (8): ReLU(inplace=True)\n",
      "    (9): MaxPool2d(kernel_size=2, stride=2, padding=0, dilation=1, ceil_mode=False)\n",
      "    (10): Conv2d(128, 256, kernel_size=(3, 3), stride=(1, 1), padding=(1, 1))\n",
      "    (11): ReLU(inplace=True)\n",
      "    (12): Conv2d(256, 256, kernel_size=(3, 3), stride=(1, 1), padding=(1, 1))\n",
      "    (13): ReLU(inplace=True)\n",
      "    (14): Conv2d(256, 256, kernel_size=(3, 3), stride=(1, 1), padding=(1, 1))\n",
      "    (15): ReLU(inplace=True)\n",
      "    (16): MaxPool2d(kernel_size=2, stride=2, padding=0, dilation=1, ceil_mode=False)\n",
      "    (17): Conv2d(256, 512, kernel_size=(3, 3), stride=(1, 1), padding=(1, 1))\n",
      "    (18): ReLU(inplace=True)\n",
      "    (19): Conv2d(512, 512, kernel_size=(3, 3), stride=(1, 1), padding=(1, 1))\n",
      "    (20): ReLU(inplace=True)\n",
      "    (21): Conv2d(512, 512, kernel_size=(3, 3), stride=(1, 1), padding=(1, 1))\n",
      "    (22): ReLU(inplace=True)\n",
      "    (23): MaxPool2d(kernel_size=2, stride=2, padding=0, dilation=1, ceil_mode=False)\n",
      "    (24): Conv2d(512, 512, kernel_size=(3, 3), stride=(1, 1), padding=(1, 1))\n",
      "    (25): ReLU(inplace=True)\n",
      "    (26): Conv2d(512, 512, kernel_size=(3, 3), stride=(1, 1), padding=(1, 1))\n",
      "    (27): ReLU(inplace=True)\n",
      "    (28): Conv2d(512, 512, kernel_size=(3, 3), stride=(1, 1), padding=(1, 1))\n",
      "    (29): ReLU(inplace=True)\n",
      "    (30): MaxPool2d(kernel_size=2, stride=2, padding=0, dilation=1, ceil_mode=False)\n",
      "  )\n",
      ")\n",
      "Decoder(\n",
      "  (decoder): ModuleList(\n",
      "    (0): MaxUnpool2d(kernel_size=(2, 2), stride=(2, 2), padding=(0, 0))\n",
      "  )\n",
      ")\n"
     ]
    },
    {
     "name": "stderr",
     "output_type": "stream",
     "text": [
      "\n"
     ]
    }
   ],
   "source": [
    "from pred_network import *\n",
    "\n",
    "device = T.device(\"cuda:0\" if T.cuda.is_available() else \"cpu\")\n",
    "\n",
    "encoder_args = {'batch_size': 3, 'window_size': 120,\n",
    "                    'features': 135}\n",
    "decoder_args = {}\n",
    "\n",
    "model = VGG16_AE(encoder_args, decoder_args, device)"
   ]
  },
  {
   "cell_type": "code",
   "execution_count": 4,
   "metadata": {},
   "outputs": [],
   "source": [
    "from utils import StockData\n",
    "\n",
    "dataset = StockData('/Users/bigc/Documents/Code - Offline/dataset.pickle', 128, device)"
   ]
  },
  {
   "cell_type": "code",
   "execution_count": 5,
   "metadata": {},
   "outputs": [
    {
     "name": "stdout",
     "output_type": "stream",
     "text": [
      "torch.Size([128, 462])\n"
     ]
    }
   ],
   "source": [
    "print(dataset[0].shape)"
   ]
  },
  {
   "cell_type": "code",
   "execution_count": 7,
   "metadata": {},
   "outputs": [
    {
     "name": "stdout",
     "output_type": "stream",
     "text": [
      "           open        high         low       close    adjclose     volume  \\\n",
      "0    178.960007  179.679993  176.809998  176.970001  176.271286  2449100.0   \n",
      "1    177.929993  180.229996  177.059998  178.470001  177.765366  1621200.0   \n",
      "2    179.080002  182.220001  178.179993  181.309998  180.594147  2339000.0   \n",
      "3    180.000000  181.860001  176.789993  177.250000  176.550171  2251800.0   \n",
      "4    176.389999  177.250000  171.550003  174.669998  173.980362  3513000.0   \n",
      "..          ...         ...         ...         ...         ...        ...   \n",
      "457  152.110001  153.339996  149.839996  150.779999  150.779999  1899000.0   \n",
      "458  152.110001  153.339996  149.839996  150.779999  150.779999  1899000.0   \n",
      "459  152.110001  153.339996  149.839996  150.779999  150.779999  1899000.0   \n",
      "460  152.110001  153.339996  149.839996  150.779999  150.779999  1899000.0   \n",
      "461  152.110001  153.339996  149.839996  150.779999  150.779999  1899000.0   \n",
      "\n",
      "       volume_adi  volume_obv  volume_cmf     volume_fi  ...     rsi_10  \\\n",
      "0   -1.482040e+07 -42230300.0   -0.152658 -2.924886e+06  ...  68.484422   \n",
      "1   -1.499939e+07 -40609100.0   -0.123075 -2.159645e+06  ...  64.770708   \n",
      "2   -1.371410e+07 -38270100.0   -0.099088 -9.021598e+05  ...  58.138413   \n",
      "3   -1.555728e+07 -40521900.0   -0.086483 -2.079323e+06  ...  63.994639   \n",
      "4   -1.522448e+07 -44034900.0   -0.109630 -3.077069e+06  ...  67.231408   \n",
      "..            ...         ...         ...           ...  ...        ...   \n",
      "457 -2.032515e+07 -58588400.0   -0.122467 -3.470570e+04  ...  48.999732   \n",
      "458 -2.032515e+07 -58588400.0   -0.122467 -3.470570e+04  ...  48.999732   \n",
      "459 -2.032515e+07 -58588400.0   -0.122467 -3.470570e+04  ...  48.999732   \n",
      "460 -2.032515e+07 -58588400.0   -0.122467 -3.470570e+04  ...  48.999732   \n",
      "461 -2.032515e+07 -58588400.0   -0.122467 -3.470570e+04  ...  48.999732   \n",
      "\n",
      "       rsi_100      rsi_7     rsi_28      rsi_6     rsi_14     rsi_26  \\\n",
      "0    55.624093  73.450704  60.323171  75.898801  64.812847  61.056746   \n",
      "1    55.241888  67.630298  59.146784  68.761449  62.317274  59.675231   \n",
      "2    54.525376  57.555872  56.965565  56.656575  57.780942  57.121747   \n",
      "3    55.361437  66.002459  59.196407  66.710075  62.035609  59.694482   \n",
      "4    55.882084  70.373502  60.544286  71.713318  64.484945  61.236735   \n",
      "..         ...        ...        ...        ...        ...        ...   \n",
      "457  54.685865  47.894499  53.929714  47.927640  50.817416  53.450644   \n",
      "458  54.685865  47.894499  53.929714  47.927640  50.817416  53.450644   \n",
      "459  54.685865  47.894499  53.929714  47.927640  50.817416  53.450644   \n",
      "460  54.685865  47.894499  53.929714  47.927640  50.817416  53.450644   \n",
      "461  54.685865  47.894499  53.929714  47.927640  50.817416  53.450644   \n",
      "\n",
      "     macd_normal  macd_short  macd_long  \n",
      "0      -1.192555   -1.309835   2.654937  \n",
      "1      -1.176227   -1.202535   2.697385  \n",
      "2      -0.903155   -0.751541   2.706227  \n",
      "3      -0.921758   -0.808915   2.749014  \n",
      "4      -1.025651   -0.985719   2.809364  \n",
      "..           ...         ...        ...  \n",
      "457     0.938561    0.924355   1.099538  \n",
      "458     0.938561    0.924355   1.099538  \n",
      "459     0.938561    0.924355   1.099538  \n",
      "460     0.938561    0.924355   1.099538  \n",
      "461     0.938561    0.924355   1.099538  \n",
      "\n",
      "[462 rows x 135 columns]\n"
     ]
    }
   ],
   "source": [
    "from utils import *\n",
    "\n",
    "data = load_dataset('/Users/bigc/Documents/Code - Offline/dataset.pickle')\n",
    "print(data['ZTS'])"
   ]
  }
 ],
 "metadata": {
  "kernelspec": {
   "display_name": "ML-Env",
   "language": "python",
   "name": "python3"
  },
  "language_info": {
   "codemirror_mode": {
    "name": "ipython",
    "version": 3
   },
   "file_extension": ".py",
   "mimetype": "text/x-python",
   "name": "python",
   "nbconvert_exporter": "python",
   "pygments_lexer": "ipython3",
   "version": "3.9.15"
  },
  "orig_nbformat": 4,
  "vscode": {
   "interpreter": {
    "hash": "39e9e786cfc50b84d201803d1c16e12ba5aa482da9703f87d5c2cc4a403446fb"
   }
  }
 },
 "nbformat": 4,
 "nbformat_minor": 2
}
